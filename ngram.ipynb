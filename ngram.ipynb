{
 "cells": [
  {
   "cell_type": "code",
   "execution_count": null,
   "id": "b7019e0b-b72d-4495-ace6-a59340bffa5b",
   "metadata": {},
   "outputs": [],
   "source": [
    "import torch\n",
    "import torch.nn.functional as F\n",
    "\n",
    "import matplotlib.pyplot as plt"
   ]
  },
  {
   "cell_type": "code",
   "execution_count": null,
   "id": "17a2aa2c-89e0-406b-a6cb-fb32712f40df",
   "metadata": {},
   "outputs": [],
   "source": [
    "names = open('names.txt').read().splitlines()"
   ]
  },
  {
   "cell_type": "code",
   "execution_count": null,
   "id": "835a506d-8cbd-4aa7-8db7-02504eab5d3d",
   "metadata": {},
   "outputs": [],
   "source": [
    "def generate_ngrams(n, names_with_tokens):\n",
    "    ngrams = []\n",
    "    for w in names_with_tokens:\n",
    "        for zps in zip(*(w[i:] for i in range(n))):\n",
    "            ngrams.append(''.join([*zps]))\n",
    "    return ngrams"
   ]
  },
  {
   "cell_type": "code",
   "execution_count": null,
   "id": "dcdbe8b4-9eca-4099-9a96-0d1ed01d6532",
   "metadata": {},
   "outputs": [],
   "source": [
    "chars = set(''.join(names))\n",
    "chars.add('.')\n",
    "n_chars = len(chars)\n",
    "\n",
    "stoi = {s:i for i,s in enumerate(sorted(chars))}\n",
    "itos = {i:s for s,i in stoi.items()}"
   ]
  },
  {
   "cell_type": "markdown",
   "id": "8167239e-a6e7-4284-8327-16092619f78d",
   "metadata": {},
   "source": [
    "### create training set of ngrams"
   ]
  },
  {
   "cell_type": "markdown",
   "id": "dfbe72ec-2dfe-48fc-82b9-3dfa250b99e8",
   "metadata": {},
   "source": [
    "#### trigram"
   ]
  },
  {
   "cell_type": "code",
   "execution_count": null,
   "id": "d6e363b7-fcf2-4d68-8e18-344628b32b89",
   "metadata": {},
   "outputs": [],
   "source": [
    "names_with_tokens = ['.'+n+'.' for n in names]\n",
    "xs, ys = [], []\n",
    "\n",
    "for tg in generate_ngrams(3, names_with_tokens[:1]):\n",
    "    c1,c2,c3 = tg\n",
    "    xs.append([stoi[c1],stoi[c2]])\n",
    "    ys.append(stoi[c3])\n",
    "    \n",
    "x = torch.tensor(xs)\n",
    "y = torch.tensor(ys)"
   ]
  },
  {
   "cell_type": "code",
   "execution_count": null,
   "id": "62348e9a-57b1-47af-87dc-68d501f0b3e5",
   "metadata": {},
   "outputs": [],
   "source": [
    "x.shape"
   ]
  },
  {
   "cell_type": "code",
   "execution_count": null,
   "id": "71e20740-e132-4a54-b17e-e87091d53d4a",
   "metadata": {},
   "outputs": [],
   "source": [
    "x"
   ]
  },
  {
   "cell_type": "code",
   "execution_count": null,
   "id": "08a677ab-e7ce-4bff-a783-20c010d40e9b",
   "metadata": {},
   "outputs": [],
   "source": [
    "y.shape"
   ]
  },
  {
   "cell_type": "code",
   "execution_count": null,
   "id": "431072bc-2c9d-4bc2-9760-14d2fb8fa78a",
   "metadata": {},
   "outputs": [],
   "source": [
    "xenc = F.one_hot(x, n_chars).float()"
   ]
  },
  {
   "cell_type": "code",
   "execution_count": null,
   "id": "f0b28da2-8ed8-4711-9a63-f2926de48073",
   "metadata": {},
   "outputs": [],
   "source": [
    "xenc"
   ]
  },
  {
   "cell_type": "code",
   "execution_count": null,
   "id": "0f2fd5f7-bfb1-42cb-858c-5dc8147fdfa3",
   "metadata": {},
   "outputs": [],
   "source": [
    "xenc.shape"
   ]
  },
  {
   "cell_type": "code",
   "execution_count": null,
   "id": "4e7a07c3-7d71-45b4-9474-ffb36d3b0721",
   "metadata": {},
   "outputs": [],
   "source": [
    "W = torch.randn((27, 1))"
   ]
  },
  {
   "cell_type": "code",
   "execution_count": null,
   "id": "6fc4ed32-6481-4c37-9b5b-f3385943d1e0",
   "metadata": {},
   "outputs": [],
   "source": [
    "xenc @ W"
   ]
  },
  {
   "cell_type": "code",
   "execution_count": null,
   "id": "26304485-1ce2-4b65-8246-b391391ce728",
   "metadata": {},
   "outputs": [],
   "source": [
    "xenc.shape"
   ]
  },
  {
   "cell_type": "code",
   "execution_count": null,
   "id": "af19f96b-4894-4ac4-bf73-dc7194ee15e0",
   "metadata": {},
   "outputs": [],
   "source": [
    "(xenc @ W).shape"
   ]
  }
 ],
 "metadata": {
  "kernelspec": {
   "display_name": "Python 3 (ipykernel)",
   "language": "python",
   "name": "python3"
  },
  "language_info": {
   "codemirror_mode": {
    "name": "ipython",
    "version": 3
   },
   "file_extension": ".py",
   "mimetype": "text/x-python",
   "name": "python",
   "nbconvert_exporter": "python",
   "pygments_lexer": "ipython3",
   "version": "3.9.15"
  }
 },
 "nbformat": 4,
 "nbformat_minor": 5
}
